{
 "cells": [
  {
   "cell_type": "markdown",
   "id": "8af3f001-dbda-454b-94fc-a259732b96de",
   "metadata": {},
   "source": [
    "# Sentinel-2 imagery access and analysis"
   ]
  },
  {
   "cell_type": "markdown",
   "id": "2920cbe9-ea97-40dc-b19d-6d1617deb210",
   "metadata": {
    "tags": []
   },
   "source": [
    "Since we are using Jupyter notebook, we will access the data right here using sentinelsat a python library which makes searching, retrieving and downloading Sentinel satellite images easy.\n",
    "\n",
    "##### Dependencies:\n",
    "conda install -c conda-forge jupyterlab\n",
    "<br>conda install -c conda-forge sentinelsat\n",
    "<br>conda install geopandas\n",
    "<br>conda install rasterio\n",
    "<br>conda install -c conda-forge folium\n",
    "<br>conda install -c conda-forge ipywidgets"
   ]
  },
  {
   "cell_type": "markdown",
   "id": "90440edf-45d3-4a44-b92d-4f61894c32f3",
   "metadata": {},
   "source": [
    "Before we are able to use sentinelsat, we need to register a username in Copernicus Open Access Hub and note down your username and password and paste them here inside the code"
   ]
  },
  {
   "cell_type": "code",
   "execution_count": null,
   "id": "1a69ed6b-0fa8-42b2-98f6-d3a038a2398f",
   "metadata": {},
   "outputs": [],
   "source": [
    "import rasterio as rio"
   ]
  },
  {
   "cell_type": "code",
   "execution_count": null,
   "id": "c30fa1b0-219b-44c9-ae55-f6754debba2c",
   "metadata": {},
   "outputs": [],
   "source": [
    "from sentinelsat import SentinelAPI\n",
    "\n",
    "user = 'username' \n",
    "password = 'password' \n",
    "api = SentinelAPI(user, password, 'https://scihub.copernicus.eu/dhus')"
   ]
  },
  {
   "cell_type": "markdown",
   "id": "a3698883-0c54-4d0b-b6cf-f6ca26151b3f",
   "metadata": {
    "tags": []
   },
   "source": [
    "With the code below, we read the area of interest (AOI) shapefile in Geopandas and call it AOI, then later create an empty base map in Folium centred around coordinates in the area, we call this m. Finally, we can add the Geopandas data to the base map we have created to visualize the AOI boundary we are interested in. Below you can see the map."
   ]
  },
  {
   "cell_type": "code",
   "execution_count": null,
   "id": "b748bba9-d976-44e3-b480-7ae04942e0dc",
   "metadata": {
    "tags": []
   },
   "outputs": [],
   "source": [
    "import geopandas as gpd\n",
    "import folium \n",
    "\n",
    "AOI = gpd.read_file('shapefile_name.shp')\n",
    "\n",
    "m = folium.Map([lat, lon], zoom_start=12)\n",
    "folium.GeoJson(AOI).add_to(m)\n",
    "m"
   ]
  },
  {
   "cell_type": "markdown",
   "id": "26e88d89-03f8-4a1d-b1c4-7c9201bcd87c",
   "metadata": {},
   "source": [
    "One last step before we can search and download sentinel 2 images is to create a footprint from the AOI geometry. Here we will use Shapely Python library since our data is in Shapefiles and have read it already as Geopandas GeodataFrame. (Note that if you have Geojson data, sentinelsat provides a handy way to convert your data into a proper format in the query)."
   ]
  },
  {
   "cell_type": "code",
   "execution_count": null,
   "id": "58eac823-c50f-4024-8086-dc327d8da8c5",
   "metadata": {},
   "outputs": [],
   "source": [
    "from shapely.geometry import MultiPolygon, Polygon\n",
    "\n",
    "footprint = None\n",
    "for i in AOI['geometry']:\n",
    "    footprint = i"
   ]
  },
  {
   "cell_type": "markdown",
   "id": "c61e8627-1ba6-491d-b9e8-3d21c561f9bf",
   "metadata": {},
   "source": [
    "Now we can run a query on the api we have created above. There are different ways you can construct your query here depending on your use case. In this example, we will create a query for Sentinel 2 images Level 2A with cloud coverage between 0 and 10 that fall or intersect with the footprint (Area of study). For the time period, we are interested only in Sentinel Level 2A satellite images (For reference on valid search queries please refer to scihub)."
   ]
  },
  {
   "cell_type": "code",
   "execution_count": null,
   "id": "7e92e6c3-21df-4a4f-9f8f-f1196130de93",
   "metadata": {},
   "outputs": [],
   "source": [
    "products = api.query(footprint,\n",
    "                     date = ('20210801', '20210810'),\n",
    "                     platformname = 'Sentinel-2',\n",
    "                     processinglevel = 'Level-2A',\n",
    "                     cloudcoverpercentage = (0,10)\n",
    "                    )"
   ]
  },
  {
   "cell_type": "markdown",
   "id": "a2d407ea-feb4-4930-ae5a-9c2084ee77c6",
   "metadata": {},
   "source": [
    "We get a dictionary of all products available in this period with the query specification. You can tweak the query for your use case example expanding the time period or increasing the cloud coverage percentage. From here we can create a GeodataFrame or Dataframe from the product dictionary and sort them according to cloud coverage percentage. GeodataFrame holds the geometry of each satellite image tile. Once we create the GeodataFrame and sort it, we call directly products_gdf_sorted table to see the attributes off all rows."
   ]
  },
  {
   "cell_type": "code",
   "execution_count": null,
   "id": "83fe058b-8892-4a4f-9aa6-336f35ae1e67",
   "metadata": {},
   "outputs": [],
   "source": [
    "products_gdf = api.to_geodataframe(products)\n",
    "products_gdf_sorted = products_gdf.sort_values(['cloudcoverpercentage'], ascending=[True])\n",
    "products_gdf_sorted"
   ]
  },
  {
   "cell_type": "markdown",
   "id": "a4914b00-d61b-4b4c-a059-974d577b2cbb",
   "metadata": {},
   "source": [
    "The table above only shows the first columns of the products_gdf_sorted table. In the index, you have tiles which you can use to download the particular image. Additional columns also include a title which has the full name of the tile and some other useful columns like cloud coverage percentage. Let's say we are interested in the first satellite image. We can simply call download and provide the product name (Note that you can download all images at once with api.download_all() function)."
   ]
  },
  {
   "cell_type": "code",
   "execution_count": null,
   "id": "c222af62-f1f1-48f2-b11a-8086b8075645",
   "metadata": {},
   "outputs": [],
   "source": [
    "api.download(\"7dbb26e5-c5e3-484a-a5b4-c4538d7c2cf2\")"
   ]
  },
  {
   "cell_type": "markdown",
   "id": "d775fe48-8438-4d1e-ad79-61a4c9190258",
   "metadata": {},
   "source": [
    "This will take a while (Sentinel 2 Satellite image tiles are about 1 GB). Once the download is finished, we can simply unzip it. In the next section, we will use the downloaded satellite images to process, analyze and visualize them."
   ]
  },
  {
   "cell_type": "markdown",
   "id": "15620c49-baec-4179-ba00-9fabfff3ad93",
   "metadata": {},
   "source": [
    "## Exploring Imagery with Rasterio\n",
    "\n",
    "Once we unzip the downloaded folder, we get many subfolders and it is sometimes hard to navigate through these folders. Here is a tree of the folders."
   ]
  },
  {
   "cell_type": "markdown",
   "id": "291346e2-43ab-4bde-9365-37e4aaaa04db",
   "metadata": {},
   "source": [
    "![title](tree_example.png)"
   ]
  },
  {
   "cell_type": "markdown",
   "id": "6cc59201-9fb2-407f-8783-a04b495c86ee",
   "metadata": {},
   "source": [
    "Sentinel-2 data is multispectral with 13 bands in the visible, near infrared and shortwave infrared spectrum. These bands come in a different spatial resolution ranging from 10 m to 60 m, thus images can be categorized as high-medium resolution. While there are other higher resolution satellites available(1m to 0.5 cm), Sentinel-2 data is free and has a high revisit time (5 days) which makes it an excellent option to study environmental challenges."
   ]
  },
  {
   "cell_type": "markdown",
   "id": "c9b570f9-a65f-4214-8e8c-878be6046916",
   "metadata": {},
   "source": [
    "### Create RGB Image\n",
    "\n",
    "The true colour of satellite images is often displayed in a combination of the red, green and blue bands. Let us first read the data with Rasterio and create an RGB image from Bands 4, 3, and 2.\n",
    "First, we open an empty RGB.tiff in Rasterio with the same parameters i.e. width, height, CRS, etc. Then we need to write those bands to the empty RGB image."
   ]
  },
  {
   "cell_type": "code",
   "execution_count": null,
   "id": "03d7d614-246a-4dd9-8237-760c85c6982f",
   "metadata": {},
   "outputs": [],
   "source": [
    "# Open Bands 4, 3 and 2 with Rasterio\n",
    "R10 = r'C:\\Users\\....\\S2A_MSIL2A_20210802T075611_N0301_R035_T37SEV_20210802T110235.SAFE\\GRANULE\\L2A_T37SEV_A031921_20210802T080227\\IMG_DATA/R10m'\n",
    "b4 = rio.open(R10+'/T37SEV_20210802T075611_B04_10m.jp2')\n",
    "b3 = rio.open(R10+'/T37SEV_20210802T075611_B03_10m.jp2')\n",
    "b2 = rio.open(R10+'/T37SEV_20210802T075611_B02_10m.jp2')\n",
    "\n",
    "\n",
    "# Create an RGB image \n",
    "with rio.open('RGB.tiff','w',driver='Gtiff', width=b4.width, height=b4.height, \n",
    "              count=3,crs=b4.crs,transform=b4.transform, dtype=b4.dtypes[0]) as rgb:\n",
    "    rgb.write(b2.read(1),1) \n",
    "    rgb.write(b3.read(1),2) \n",
    "    rgb.write(b4.read(1),3) \n",
    "    rgb.close()"
   ]
  },
  {
   "cell_type": "raw",
   "id": "d830e49f-8744-4f38-ba2c-2ae3eabe76e6",
   "metadata": {},
   "source": [
    "from rasterio import mask\n",
    "AOI_proj = AOI.to_crs({'init': 'epsg:32637'})\n",
    "\n",
    "with rio.open(r'C:\\Users\\....\\RGB.tiff') as src:\n",
    "    out_image, out_transform = rio.mask.mask(src, AOI_proj.geometry,crop=True)\n",
    "    out_meta = src.meta.copy()\n",
    "    out_meta.update({\"driver\": \"GTiff\",\n",
    "                 \"height\": out_image.shape[1],\n",
    "                 \"width\": out_image.shape[2],\n",
    "                 \"transform\": out_transform})\n",
    "    \n",
    "with rio.open(\"RGB_masked.tif\", \"w\", **out_meta) as dest:\n",
    "    dest.write(out_image)"
   ]
  },
  {
   "cell_type": "markdown",
   "id": "63df4138-2e67-4872-8cfa-3a362903410d",
   "metadata": {},
   "source": [
    "### Create NDVI\n",
    "\n",
    "Calculating Normalized Difference Vegetation Index (NDVI) is an important indicator to assess the presence/absence of green vegetation from the satellite images. To calculate the NDVI, we need Red band and Near-Infrared Band (NIR). Different satellite images assign different numbers for these bands. Sentinel Images have red in 4th band and NIR in the 8th band. The formula for NDVI calculation is:\n",
    "\n",
    "#### NIR - RED /(NIR + RED)\n",
    "\n",
    "To carry out this in Rasterio we need first to read the 4th and 8th bands as arrays. We also need to make sure that the arrays are floats."
   ]
  },
  {
   "cell_type": "code",
   "execution_count": null,
   "id": "33ea1473-ce11-45c7-8b0f-fba3cdc77e1d",
   "metadata": {},
   "outputs": [],
   "source": [
    "# Open b4 and b8\n",
    "b4 = rio.open(R10+'/T37SEV_20210802T075611_B04_10m.jp2')\n",
    "b8 = rio.open(R10+'/T37SEV_20210802T075611_B08_10m.jp2')\n",
    "\n",
    "# read Red(b4) and NIR(b8) as arrays\n",
    "red = b4.read()\n",
    "nir = b8.read()\n",
    "\n",
    "# Calculate ndvi\n",
    "ndvi = (nir.astype(float)-red.astype(float))/(nir+red)\n",
    "\n",
    "# Write the NDVI image\n",
    "meta = b4.meta\n",
    "meta.update(driver='GTiff')\n",
    "meta.update(dtype=rio.float32)\n",
    "\n",
    "with rio.open('NDVI.tif', 'w', **meta) as dst:\n",
    "    dst.write(ndvi.astype(rio.float32))"
   ]
  },
  {
   "cell_type": "markdown",
   "id": "af9d52c1-2f89-4bec-9c78-8d5b7f2d449a",
   "metadata": {},
   "source": [
    "The output is an NDVI image which shows vegetation level of areas in the satellite image."
   ]
  },
  {
   "cell_type": "markdown",
   "id": "e8d09a7c-a732-4652-a9cd-7c5532e35f48",
   "metadata": {},
   "source": [
    "Accessing Sentinel 2 images with Python is made easy with sentinelsat. In this tutorial, we have covered how to construct a query and retrieve on information from available images as well as how to download Sentinel 2 images within Jupyter notebooks. We have also seen how to preprocess, create RGB and NDVI images and visualize raster images with Rasterio. "
   ]
  }
 ],
 "metadata": {
  "kernelspec": {
   "display_name": "Python 3",
   "language": "python",
   "name": "python3"
  },
  "language_info": {
   "codemirror_mode": {
    "name": "ipython",
    "version": 3
   },
   "file_extension": ".py",
   "mimetype": "text/x-python",
   "name": "python",
   "nbconvert_exporter": "python",
   "pygments_lexer": "ipython3",
   "version": "3.6.13"
  }
 },
 "nbformat": 4,
 "nbformat_minor": 5
}
